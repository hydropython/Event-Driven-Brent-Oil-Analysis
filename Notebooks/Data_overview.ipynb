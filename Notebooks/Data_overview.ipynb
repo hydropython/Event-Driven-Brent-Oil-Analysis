{
 "cells": [
  {
   "cell_type": "code",
   "execution_count": 1,
   "metadata": {},
   "outputs": [],
   "source": [
    "import os\n",
    "import sys\n",
    "import pandas as pd\n",
    "sys.path.append('../Scripts')\n",
    "from Data_overview import BrentOilPricesAnalysis"
   ]
  },
  {
   "cell_type": "code",
   "execution_count": 2,
   "metadata": {},
   "outputs": [
    {
     "name": "stderr",
     "output_type": "stream",
     "text": [
      "d:\\10 ACADAMY KIFIYA\\Week 10\\Event-Driven-Brent-Oil-Analysis\\Notebooks\\../Scripts\\Data_overview.py:8: UserWarning: Could not infer format, so each element will be parsed individually, falling back to `dateutil`. To ensure parsing is consistent and as-expected, please specify a format.\n",
      "  self.data = pd.read_csv(file_path, parse_dates=['Date'])\n"
     ]
    },
    {
     "name": "stdout",
     "output_type": "stream",
     "text": [
      "                                Date        Price\n",
      "count                           9011  9011.000000\n",
      "mean   2005-02-10 23:46:53.760958720    48.420782\n",
      "min              1987-05-20 00:00:00     9.100000\n",
      "25%              1996-03-20 12:00:00    19.050000\n",
      "50%              2005-02-02 00:00:00    38.570000\n",
      "75%              2014-01-09 12:00:00    70.090000\n",
      "max              2022-11-14 00:00:00   143.950000\n",
      "std                              NaN    32.860110\n",
      "Plot saved as ../Images/brent_oil_prices.png\n"
     ]
    }
   ],
   "source": [
    "# Usage\n",
    "if __name__ == \"__main__\":\n",
    "    # Create an instance of the class with the file path\n",
    "    analysis = BrentOilPricesAnalysis('../Data/Copy of BrentOilPrices.csv')\n",
    "    \n",
    "    # Display statistics\n",
    "    analysis.display_statistics()\n",
    "    \n",
    "    # Plot the time series\n",
    "    analysis.plot_time_series()"
   ]
  },
  {
   "cell_type": "code",
   "execution_count": 3,
   "metadata": {},
   "outputs": [
    {
     "name": "stdout",
     "output_type": "stream",
     "text": [
      "Updated CSV saved as ../Data/BrentOilPrices_with_Events.csv\n"
     ]
    }
   ],
   "source": [
    "\n",
    "\n",
    "analysis.add_events_data()"
   ]
  },
  {
   "cell_type": "code",
   "execution_count": 4,
   "metadata": {},
   "outputs": [
    {
     "name": "stdout",
     "output_type": "stream",
     "text": [
      "Plot with events saved as ../Images/brent_oil_prices_with_events.png\n"
     ]
    }
   ],
   "source": [
    "analysis.plot_with_events()"
   ]
  }
 ],
 "metadata": {
  "kernelspec": {
   "display_name": "env",
   "language": "python",
   "name": "python3"
  },
  "language_info": {
   "codemirror_mode": {
    "name": "ipython",
    "version": 3
   },
   "file_extension": ".py",
   "mimetype": "text/x-python",
   "name": "python",
   "nbconvert_exporter": "python",
   "pygments_lexer": "ipython3",
   "version": "3.12.6"
  }
 },
 "nbformat": 4,
 "nbformat_minor": 2
}
